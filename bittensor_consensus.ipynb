{
 "cells": [
  {
   "cell_type": "markdown",
   "id": "925cfc59-80d8-46c4-991b-90a435b3130c",
   "metadata": {},
   "source": [
    "# Bittensor Consensus Mechanism \n",
    "\n",
    "Approach:\n",
    "\n",
    "1. We measure 'inflation': The vector I = W^(tr) * S which determines the amount of inflation distributed to peers at the next iteration (block). \n",
    "\n",
    "1. We measure 'votes': A peer votes by assigning a weight w_i_j, in W, between peer i and peer j, i being the voter and j being the receiver. We tally votes into a voting matrix: V = tanh( temp * (W - kappa) ), given a choosen threshold (kappa) on the weights w_i_j, and the tanh function which takes the values onto the range (-1, 1). This way a non-vote is roughly counted as -1 and a vote is counted as 1.\n",
    "\n",
    "1. We measure 'consensus': The difference between votes and non-votes, weighted by stake: C = tanh( transpose(V) * S ). The inner term, transpose(V) * S, at position i, is positive iff more than 50% of the stake has voted for peer i. After application of the tanh(inner), this value is on range -1, 1 where C_i is close to -1 iff less than 50% of the stake has voted for peer i and 1 otherwise.\n",
    "\n",
    "1. We measure 'loss': The difference between the amount of inflation distributed towards peers with less than 50% of stake-weighted-votes, and those that are voted on by greater than 50% of the stake-weighted-votes: I * C. The loss is positive if the majority of stake is being distributed towards peers which are less than 50% stake-weighted in the network and negative otherwise.\n",
    "\n",
    "1. We compute 'balance': A directional vector B, the gradient of the loss with respect to the stake vector, dl/dS. \n",
    "\n",
    "1. We update the stake vector given the gradient, 'B', to balance the network. S(t+1) = S(t) - alpha * B.\n",
    "\n",
    "Discussion:\n",
    "\n",
    "The gradient of the stake with respect to the loss a.k.a 'B', takes the stake vector in a direction towards a network where the votes have reached a form of consensus. At this point, the majority of voting power has 'agreed' with itself by voting on peers which are attaining the majority of inflation. Put another way, it is a point where majority-trusted peers attain majority-inflation.\n",
    "\n",
    "There are two immediate effects of the described algorithm. \n",
    "\n",
    "1. Peers which are staking in the network but are diverging from the majority will be punished. In other words, there is incentive to 'agree' with the rest of the network. Failure to do so will ensure the gradient term 'slashes' your stake. Conversely, if you are \"agreeing\" with the super majority, then you will be rewarded by the gradient update.\n",
    "\n",
    "1. A peer which is not staking, a producer peer, (being voted on) will be highly rewarded for reaching a consensus point (being trusted greatly) by the majority.\n",
    "\n",
    "\n"
   ]
  },
  {
   "cell_type": "code",
   "execution_count": 235,
   "id": "7c43fffa-6ec6-4f98-a4e7-317bd039424d",
   "metadata": {},
   "outputs": [
    {
     "name": "stdout",
     "output_type": "stream",
     "text": [
      "Requirement already satisfied: torch in /usr/local/lib/python3.8/site-packages (1.8.1)\n",
      "Requirement already satisfied: typing-extensions in /usr/local/lib/python3.8/site-packages (from torch) (3.10.0.0)\n",
      "Requirement already satisfied: numpy in /usr/local/lib/python3.8/site-packages (from torch) (1.20.2)\n",
      "Requirement already satisfied: matplotlib in /usr/local/lib/python3.8/site-packages (3.4.1)\n",
      "Requirement already satisfied: cycler>=0.10 in /usr/local/lib/python3.8/site-packages (from matplotlib) (0.10.0)\n",
      "Requirement already satisfied: pyparsing>=2.2.1 in /usr/local/lib/python3.8/site-packages (from matplotlib) (2.4.7)\n",
      "Requirement already satisfied: kiwisolver>=1.0.1 in /usr/local/lib/python3.8/site-packages (from matplotlib) (1.3.1)\n",
      "Requirement already satisfied: pillow>=6.2.0 in /usr/local/lib/python3.8/site-packages (from matplotlib) (8.2.0)\n",
      "Requirement already satisfied: python-dateutil>=2.7 in /usr/local/lib/python3.8/site-packages (from matplotlib) (2.8.1)\n",
      "Requirement already satisfied: numpy>=1.16 in /usr/local/lib/python3.8/site-packages (from matplotlib) (1.20.2)\n",
      "Requirement already satisfied: six in /Users/const/Library/Python/3.8/lib/python/site-packages (from cycler>=0.10->matplotlib) (1.15.0)\n",
      "Requirement already satisfied: sklearn in /usr/local/lib/python3.8/site-packages (0.0)\n",
      "Requirement already satisfied: scikit-learn in /usr/local/lib/python3.8/site-packages (from sklearn) (0.24.2)\n",
      "Requirement already satisfied: numpy>=1.13.3 in /usr/local/lib/python3.8/site-packages (from scikit-learn->sklearn) (1.20.2)\n",
      "Requirement already satisfied: scipy>=0.19.1 in /usr/local/lib/python3.8/site-packages (from scikit-learn->sklearn) (1.7.0)\n",
      "Requirement already satisfied: joblib>=0.11 in /usr/local/lib/python3.8/site-packages (from scikit-learn->sklearn) (1.0.1)\n",
      "Requirement already satisfied: threadpoolctl>=2.0.0 in /usr/local/lib/python3.8/site-packages (from scikit-learn->sklearn) (2.1.0)\n",
      "Requirement already satisfied: scipy in /usr/local/lib/python3.8/site-packages (1.7.0)\n",
      "Requirement already satisfied: numpy<1.23.0,>=1.16.5 in /usr/local/lib/python3.8/site-packages (from scipy) (1.20.2)\n"
     ]
    }
   ],
   "source": [
    "! pip3 install torch\n",
    "! pip3 install matplotlib\n",
    "! pip3 install sklearn\n",
    "! pip3 install scipy"
   ]
  },
  {
   "cell_type": "code",
   "execution_count": 365,
   "id": "db7d56d3-7196-4be5-be32-7c1e348a851e",
   "metadata": {},
   "outputs": [],
   "source": [
    "import torch\n",
    "import matplotlib.pyplot as plt\n",
    "from scipy.sparse import random\n",
    "from sklearn.preprocessing import normalize\n",
    "\n",
    "def random_weight_matrix( n, density ):\n",
    "    rows = []\n",
    "    for _ in range( n ):\n",
    "        row_i = random(1, n, density=density).A # Each row has density_A\n",
    "        row_i = normalize(row_i, axis=1, norm='l1') # Each row sums to 1.\n",
    "        rows.append(row_i)\n",
    "    assert np.shape(row_i)[1] == n\n",
    "    assert np.isclose(np.sum(row_i), 1.0, 0.001)\n",
    "    \n",
    "    W = np.concatenate(rows)\n",
    "    assert np.shape(W)[0] == n and np.shape(W)[1] == n\n",
    "    return torch.tensor(W, dtype=torch.float32, requires_grad=True)\n",
    "\n",
    "def random_stake_vector( n ):\n",
    "    S = np.random.uniform(0, 1, size=(n, 1))\n",
    "    S = (S / S.sum())\n",
    "    S = np.reshape(S, [1, n])\n",
    "    S = np.transpose(S)\n",
    "    return torch.tensor(S, dtype=torch.float32, requires_grad=True)\n",
    "\n",
    "def compute_inflation( W, S ):\n",
    "    I = torch.matmul(torch.transpose(W, 0,1), S) / torch.sum(S)\n",
    "    return I\n",
    "\n",
    "def compute_votes( W, voting_threshold, voting_temp ):\n",
    "    V = torch.tanh( voting_temp * (W - voting_threshold) )\n",
    "    return V\n",
    "\n",
    "def compute_consensus( V, S, temp ):\n",
    "    inner_term = -torch.matmul(torch.transpose(V, 0, 1), S)\n",
    "    C = torch.tanh( inner_term * temp )\n",
    "    return C       \n",
    "\n",
    "def compute_loss( I, C ):\n",
    "    loss = -torch.dot(torch.flatten(I), torch.flatten(C))\n",
    "    return loss\n",
    "\n",
    "def compute_balance( loss, S ):\n",
    "    loss.backward()\n",
    "    return S.grad\n"
   ]
  },
  {
   "cell_type": "code",
   "execution_count": 370,
   "id": "5a0a0e2f-3138-4117-829b-d3ad845bc841",
   "metadata": {},
   "outputs": [
    {
     "data": {
      "image/png": "[encoded data removed]",
      "text/plain": [
       "<Figure size 432x288 with 1 Axes>"
      ]
     },
     "metadata": {
      "needs_background": "light"
     },
     "output_type": "display_data"
    },
    {
     "data": {
      "image/png": "[encoded data removed]",
      "text/plain": [
       "<Figure size 432x288 with 1 Axes>"
      ]
     },
     "metadata": {
      "needs_background": "light"
     },
     "output_type": "display_data"
    },
    {
     "data": {
      "image/png": "[encoded data removed]",
      "text/plain": [
       "<Figure size 432x288 with 1 Axes>"
      ]
     },
     "metadata": {
      "needs_background": "light"
     },
     "output_type": "display_data"
    },
    {
     "data": {
      "image/png": "[encoded data removed]",
      "text/plain": [
       "<Figure size 432x288 with 1 Axes>"
      ]
     },
     "metadata": {
      "needs_background": "light"
     },
     "output_type": "display_data"
    },
    {
     "data": {
      "image/png": "[encoded data removed]",
      "text/plain": [
       "<Figure size 432x288 with 1 Axes>"
      ]
     },
     "metadata": {
      "needs_background": "light"
     },
     "output_type": "display_data"
    },
    {
     "data": {
      "image/png": "[encoded data removed]",
      "text/plain": [
       "<Figure size 432x288 with 1 Axes>"
      ]
     },
     "metadata": {
      "needs_background": "light"
     },
     "output_type": "display_data"
    }
   ],
   "source": [
    "# Turn on print.\n",
    "debug = False\n",
    "\n",
    "# Hyperparams.\n",
    "n = 20\n",
    "density = 0.2\n",
    "voting_temp = 10\n",
    "voting_threshold = 1/(2*n)\n",
    "consensus_temp = 10\n",
    "alpha = 0.01\n",
    "\n",
    "# Initial Chain stake/weights \n",
    "S = random_stake_vector( n ); \n",
    "if debug: print('\\nStake (S):\\n', S)\n",
    "W = random_weight_matrix( n, density );\n",
    "if debug: print('\\nWeights (W):\\n', W)\n",
    "    \n",
    "# Iterate over blocks.\n",
    "n_steps = 100\n",
    "step_losses = []\n",
    "for step in range(n_steps):\n",
    "    \n",
    "    # Inflation.\n",
    "    # We measure 'inflation': The vector I = W^(tr) * S which determines the amount of inflation distributed to peers at the next iteration (block).\n",
    "    I = compute_inflation( W, S ) \n",
    "    if debug: print ('\\nInflation (I):\\n', I)\n",
    "        \n",
    "    # We measure 'votes': A peer votes by assigning a weight w_i_j, in W, between peer i and peer j, i being the voter and j being the receiver. \n",
    "    # We tally votes into a voting matrix: V = tanh( temp * (W - kappa) ), given a choosen threshold (kappa) on the weights w_i_j, \n",
    "    # and the tanh function which takes the values onto the range (-1, 1). This way a non-vote is roughly counted as -1 and a vote is counted as 1.\n",
    "    V = compute_votes( W, voting_threshold, voting_temp )\n",
    "    if debug: print('\\nVotes (V):\\n',V)\n",
    "\n",
    "    # We measure 'consensus': The sum of inward votes weighted by stake: C = tanh( transpose(V) * S ). \n",
    "    # The inner term, transpose(V) * S, at position i, is positive iff more than 50% of the stake has voted for peer i. \n",
    "    # After application of the tanh(inner), this value is on range -1, 1 where C_i is close to -1 iff less than \n",
    "    # 50% of the stake has voted for peer i and 1 otherwise.\n",
    "    C = compute_consensus( V, S, consensus_temp )\n",
    "    if debug: print('\\nConsensus (CT):\\n', C)\n",
    "\n",
    "    # We measure 'loss': The difference between the amount of inflation distributed towards peers with less than 50% of stake-weighted-votes,\n",
    "    # and those that are voted on by greater than 50% of the stake-weighted-votes: I * C. \n",
    "    # The loss is positive if the majority of stake is being distributed towards peers which are less than 50% stake-weighted in the network and negative otherwise.\n",
    "    L = compute_loss( I, C ); step_losses.append( L.item() )\n",
    "    if debug: print ('\\nLoss (L):\\n', L)\n",
    "\n",
    "    # We compute 'balance': A directional vector B, the gradient of the loss with respect to the stake vector, dL/dS. \n",
    "    B = compute_balance( L, S )\n",
    "    if debug: print('\\nBalance (B):\\n', B)\n",
    "    \n",
    "    # Save for later.\n",
    "    if step == 0: \n",
    "        I0 = I\n",
    "        S0 = S\n",
    "        C0 = C\n",
    "        B0 = B\n",
    "\n",
    "    # We update the stake vector given the gradient 'B', to balance the network. S(t+1) = S(t) - alpha * B.\n",
    "    S = S - alpha * B\n",
    "    S = torch.max( S, torch.zeros_like(S) )\n",
    "    S = (S / S.sum())\n",
    "    S = torch.tensor( S.detach().numpy(), dtype=torch.float32, requires_grad=True)\n",
    "    if debug: print ('\\n\\nStake S(t+1):\\n', S)\n",
    "        \n",
    "  \n",
    "# plot stake (S)\n",
    "fig_s, ax_s = plt.subplots()\n",
    "fig_s.suptitle('stake (S)', fontsize=12)\n",
    "St = torch.squeeze(S).detach().numpy().tolist()\n",
    "St_0 = torch.squeeze(S0).detach().numpy().tolist()\n",
    "ax_s.bar(range(n), St, label='S(t)')\n",
    "ax_s.bar(range(n), St_0, label='S(0)')\n",
    "ax_s.legend()\n",
    "\n",
    "# plot incentive (I)\n",
    "fig_i, ax_i = plt.subplots()\n",
    "fig_i.suptitle('incentive (I)', fontsize=12)\n",
    "It = torch.squeeze(I).detach().numpy().tolist()\n",
    "It_0 = torch.squeeze(I0).detach().numpy().tolist()\n",
    "ax_i.bar(range(n), It, label='I(t)')\n",
    "ax_i.bar(range(n), It_0, label='I(0)')\n",
    "ax_i.legend()\n",
    "\n",
    "# plot consensus (C)\n",
    "fig_c, ax_c = plt.subplots()\n",
    "fig_c.suptitle('consensus (C)', fontsize=12)\n",
    "Ct = torch.squeeze(C).detach().numpy().tolist()\n",
    "Ct_0 = torch.squeeze(C0).detach().numpy().tolist()\n",
    "ax_c.bar(range(n), Ct, label='C(t)')\n",
    "ax_c.bar(range(n), Ct_0, label='C(0)')\n",
    "ax_c.legend()\n",
    "\n",
    "# Plot Loss (L)\n",
    "fig_l, ax_l = plt.subplots()\n",
    "fig_l.suptitle('loss (L)', fontsize=12)\n",
    "ax_l.plot(step_losses, label='loss')\n",
    "ax_l.legend()\n",
    "\n",
    "# Plot W\n",
    "fig_w, ax_w = plt.subplots()\n",
    "fig_w.suptitle('weights (W)', fontsize=12)\n",
    "W = W.detach().numpy()\n",
    "ax_w.imshow(W, cmap='hot', interpolation='nearest')\n",
    "\n",
    "# Plot V\n",
    "fig_v, ax_v = plt.subplots()\n",
    "fig_v.suptitle('votes (V)', fontsize=12)\n",
    "V = V.detach().numpy()\n",
    "ax_v.imshow(V, cmap='hot', interpolation='nearest')\n",
    "\n",
    "# show.\n",
    "plt.show()\n"
   ]
  },
  {
   "cell_type": "code",
   "execution_count": null,
   "id": "bc16cf64-edb5-4374-aafa-40e75ffc79c4",
   "metadata": {},
   "outputs": [],
   "source": []
  }
 ],
 "metadata": {
  "kernelspec": {
   "display_name": "Python 3",
   "language": "python",
   "name": "python3"
  },
  "language_info": {
   "codemirror_mode": {
    "name": "ipython",
    "version": 3
   },
   "file_extension": ".py",
   "mimetype": "text/x-python",
   "name": "python",
   "nbconvert_exporter": "python",
   "pygments_lexer": "ipython3",
   "version": "3.8.10"
  }
 },
 "nbformat": 4,
 "nbformat_minor": 5
}
